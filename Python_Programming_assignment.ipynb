{
  "nbformat": 4,
  "nbformat_minor": 0,
  "metadata": {
    "colab": {
      "provenance": [],
      "authorship_tag": "ABX9TyPgX2FfRuL9f5u4J5ba6mZm",
      "include_colab_link": true
    },
    "kernelspec": {
      "name": "python3",
      "display_name": "Python 3"
    },
    "language_info": {
      "name": "python"
    }
  },
  "cells": [
    {
      "cell_type": "markdown",
      "metadata": {
        "id": "view-in-github",
        "colab_type": "text"
      },
      "source": [
        "<a href=\"https://colab.research.google.com/github/Vallari28/Data-Science-Assignments/blob/main/Python_Programming_assignment.ipynb\" target=\"_parent\"><img src=\"https://colab.research.google.com/assets/colab-badge.svg\" alt=\"Open In Colab\"/></a>"
      ]
    },
    {
      "cell_type": "code",
      "execution_count": 20,
      "metadata": {
        "id": "hK5lWBr1GC-3"
      },
      "outputs": [],
      "source": [
        "#Exercise 1 : Prime Numbers"
      ]
    },
    {
      "cell_type": "code",
      "source": [
        "def is_prime(n):\n",
        "    # A prime number must be greater than 1\n",
        "    if n <= 1:\n",
        "        return False\n",
        "\n",
        "    for i in range(2, int(n**0.5) + 1):\n",
        "        if n % i == 0:\n",
        "            return False\n",
        "    return True\n",
        "\n",
        "number = int(input(\"Enter a number: \"))\n",
        "\n",
        "if is_prime(number):\n",
        "    print(f\"{number} is a prime number.\")\n",
        "else:\n",
        "    print(f\"{number} is not a prime number.\")\n",
        "\n"
      ],
      "metadata": {
        "colab": {
          "base_uri": "https://localhost:8080/"
        },
        "id": "Y4x_E_v0IBHC",
        "outputId": "d3e3bb84-b576-4ca6-f0c4-1aae2404e6cf"
      },
      "execution_count": 5,
      "outputs": [
        {
          "output_type": "stream",
          "name": "stdout",
          "text": [
            "Enter a number: 2\n",
            "2 is a prime number.\n"
          ]
        }
      ]
    },
    {
      "cell_type": "code",
      "source": [
        "Exercise 2: Product of Random Numbers"
      ],
      "metadata": {
        "id": "_fnBZ9yfIC92"
      },
      "execution_count": null,
      "outputs": []
    },
    {
      "cell_type": "code",
      "source": [
        "import random\n",
        "\n",
        "def multiplication_quiz():\n",
        "    # Generate two random numbers between 1 and 10\n",
        "    num1 = random.randint(1, 10)\n",
        "    num2 = random.randint(1, 10)\n",
        "\n",
        "    correct_answer = num1 * num2\n",
        "\n",
        "    # Ask the user for the product\n",
        "    user_answer = int(input(f\"What is {num1} x {num2}? \"))\n",
        "\n",
        "    # Check if the user's answer is correct\n",
        "    if user_answer == correct_answer:\n",
        "        print(\"Correct! Well done!\")\n",
        "    else:\n",
        "        print(f\"Incorrect. The correct answer is {correct_answer}.\")\n",
        "\n",
        "# Run the multiplication quiz\n",
        "multiplication_quiz()\n"
      ],
      "metadata": {
        "colab": {
          "base_uri": "https://localhost:8080/"
        },
        "id": "3z4wut7dIDW7",
        "outputId": "3d255c3f-91fe-403c-e574-a16e14104395"
      },
      "execution_count": 8,
      "outputs": [
        {
          "output_type": "stream",
          "name": "stdout",
          "text": [
            "What is 4 x 2? 8\n",
            "Correct! Well done!\n"
          ]
        }
      ]
    },
    {
      "cell_type": "code",
      "source": [
        "Exercise 3 :Squares of Even/Odd Numbers"
      ],
      "metadata": {
        "id": "LHc_3b2uIDnI"
      },
      "execution_count": null,
      "outputs": []
    },
    {
      "cell_type": "code",
      "source": [
        "def print_odd_squares():\n",
        "    # Iterate over the range of numbers from 100 to 200\n",
        "    for num in range(100, 201):\n",
        "        # Check if the number is odd\n",
        "        if num % 2 != 0:\n",
        "            # Print the square of the odd number\n",
        "            print(f\"The square of {num} is {num**2}\")\n",
        "\n",
        "# Call the function\n",
        "print_odd_squares()\n"
      ],
      "metadata": {
        "colab": {
          "base_uri": "https://localhost:8080/"
        },
        "id": "nurxa0UwIDzU",
        "outputId": "7d85e50c-f68d-4efa-98bf-3040326c323e"
      },
      "execution_count": 12,
      "outputs": [
        {
          "output_type": "stream",
          "name": "stdout",
          "text": [
            "The square of 101 is 10201\n",
            "The square of 103 is 10609\n",
            "The square of 105 is 11025\n",
            "The square of 107 is 11449\n",
            "The square of 109 is 11881\n",
            "The square of 111 is 12321\n",
            "The square of 113 is 12769\n",
            "The square of 115 is 13225\n",
            "The square of 117 is 13689\n",
            "The square of 119 is 14161\n",
            "The square of 121 is 14641\n",
            "The square of 123 is 15129\n",
            "The square of 125 is 15625\n",
            "The square of 127 is 16129\n",
            "The square of 129 is 16641\n",
            "The square of 131 is 17161\n",
            "The square of 133 is 17689\n",
            "The square of 135 is 18225\n",
            "The square of 137 is 18769\n",
            "The square of 139 is 19321\n",
            "The square of 141 is 19881\n",
            "The square of 143 is 20449\n",
            "The square of 145 is 21025\n",
            "The square of 147 is 21609\n",
            "The square of 149 is 22201\n",
            "The square of 151 is 22801\n",
            "The square of 153 is 23409\n",
            "The square of 155 is 24025\n",
            "The square of 157 is 24649\n",
            "The square of 159 is 25281\n",
            "The square of 161 is 25921\n",
            "The square of 163 is 26569\n",
            "The square of 165 is 27225\n",
            "The square of 167 is 27889\n",
            "The square of 169 is 28561\n",
            "The square of 171 is 29241\n",
            "The square of 173 is 29929\n",
            "The square of 175 is 30625\n",
            "The square of 177 is 31329\n",
            "The square of 179 is 32041\n",
            "The square of 181 is 32761\n",
            "The square of 183 is 33489\n",
            "The square of 185 is 34225\n",
            "The square of 187 is 34969\n",
            "The square of 189 is 35721\n",
            "The square of 191 is 36481\n",
            "The square of 193 is 37249\n",
            "The square of 195 is 38025\n",
            "The square of 197 is 38809\n",
            "The square of 199 is 39601\n"
          ]
        }
      ]
    },
    {
      "cell_type": "code",
      "source": [
        "Exercise 4 :Word Counter"
      ],
      "metadata": {
        "id": "qbMTYoxpID--"
      },
      "execution_count": null,
      "outputs": []
    },
    {
      "cell_type": "code",
      "source": [
        "from collections import Counter\n",
        "import re\n",
        "\n",
        "def word_count(text):\n",
        "    # Split the text into words\n",
        "    words = text.split()\n",
        "\n",
        "    # Count the occurrences of each word using Counter\n",
        "    word_counts = Counter(words)\n",
        "\n",
        "    # Print each word and its count\n",
        "    for word, count in word_counts.items():\n",
        "        print(f\"'{word}': {count}\")\n",
        "\n",
        "# Example input text\n",
        "input_text = \"This is a sample text. This text will be used to demonstrate the word counter.\"\n",
        "\n",
        "# Call the function with the input text\n",
        "word_count(input_text)\n"
      ],
      "metadata": {
        "colab": {
          "base_uri": "https://localhost:8080/"
        },
        "id": "gooZYO5TJ1eJ",
        "outputId": "724652aa-05d1-4b7a-e7fc-0a4c92a4f8e3"
      },
      "execution_count": 14,
      "outputs": [
        {
          "output_type": "stream",
          "name": "stdout",
          "text": [
            "'This': 2\n",
            "'is': 1\n",
            "'a': 1\n",
            "'sample': 1\n",
            "'text.': 1\n",
            "'text': 1\n",
            "'will': 1\n",
            "'be': 1\n",
            "'used': 1\n",
            "'to': 1\n",
            "'demonstrate': 1\n",
            "'the': 1\n",
            "'word': 1\n",
            "'counter.': 1\n"
          ]
        }
      ]
    },
    {
      "cell_type": "code",
      "source": [
        "Exercise 5: Check for Palindrome"
      ],
      "metadata": {
        "id": "xpYwGCjbJ1wF"
      },
      "execution_count": null,
      "outputs": []
    },
    {
      "cell_type": "code",
      "source": [
        "import re\n",
        "\n",
        "def is_palindrome(s):\n",
        "    # Remove all non-alphanumeric characters and convert to lowercase\n",
        "    cleaned_string = re.sub(r'[^A-Za-z0-9]', '', s).lower()\n",
        "\n",
        "    # Check if the cleaned string is the same forwards and backwards\n",
        "    return cleaned_string == cleaned_string[::-1]\n",
        "\n",
        "# Example usage\n",
        "input_string = \"A man, a plan, a canal, Panama!\"\n",
        "if is_palindrome(input_string):\n",
        "    print(\"The string is a palindrome.\")\n",
        "else:\n",
        "    print(\"The string is not a palindrome.\")\n"
      ],
      "metadata": {
        "colab": {
          "base_uri": "https://localhost:8080/"
        },
        "id": "vvucyYQIK0PC",
        "outputId": "d87ad02d-62a7-4920-ae92-0900069f5afd"
      },
      "execution_count": 15,
      "outputs": [
        {
          "output_type": "stream",
          "name": "stdout",
          "text": [
            "The string is a palindrome.\n"
          ]
        }
      ]
    },
    {
      "cell_type": "code",
      "source": [
        "import re\n",
        "\n",
        "def is_palindrome(s):\n",
        "    # Remove all non-alphanumeric characters and convert to lowercase\n",
        "    cleaned_string = re.sub(r'[^A-Za-z0-9]', '', s).lower()\n",
        "\n",
        "    # Check if the cleaned string is the same forwards and backwards\n",
        "    return cleaned_string == cleaned_string[::-1]\n",
        "\n",
        "# Example usage\n",
        "input_string = \"racecar\"\n",
        "print(is_palindrome(input_string))  # Expected Output: True\n"
      ],
      "metadata": {
        "colab": {
          "base_uri": "https://localhost:8080/"
        },
        "id": "-zThsA6XK1SD",
        "outputId": "e8a450ea-0ac7-4667-8bc6-6cbfa2566bfc"
      },
      "execution_count": 18,
      "outputs": [
        {
          "output_type": "stream",
          "name": "stdout",
          "text": [
            "True\n"
          ]
        }
      ]
    },
    {
      "cell_type": "code",
      "source": [],
      "metadata": {
        "id": "HtIhu9U4K1fa"
      },
      "execution_count": null,
      "outputs": []
    },
    {
      "cell_type": "code",
      "source": [],
      "metadata": {
        "id": "HecA2msSK1sI"
      },
      "execution_count": null,
      "outputs": []
    },
    {
      "cell_type": "code",
      "source": [],
      "metadata": {
        "id": "KPL8GDxFK12q"
      },
      "execution_count": null,
      "outputs": []
    },
    {
      "cell_type": "code",
      "source": [],
      "metadata": {
        "id": "h7orxN5qK2e7"
      },
      "execution_count": null,
      "outputs": []
    },
    {
      "cell_type": "code",
      "source": [],
      "metadata": {
        "id": "GBUA2XmFKyzw"
      },
      "execution_count": null,
      "outputs": []
    },
    {
      "cell_type": "markdown",
      "source": [],
      "metadata": {
        "id": "B95QTmAGKzjE"
      }
    }
  ]
}